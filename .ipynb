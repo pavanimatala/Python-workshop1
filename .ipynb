{
 "cells": [
  {
   "cell_type": "markdown",
   "metadata": {},
   "source": [
    "# Resume\n",
    "# contact details\n",
    " ```NAME```: M.PAVANI <br>\n",
    " ```PHONENUMBER```:6309831379 <br>\n",
    " ```email id```: pavanimatala01@gmail.com\n",
    " # Education details:\n",
    "  education | name | marks\n",
    "  -|-|-|\n",
    "  SSC | Jawahar navodaya vidyalaya | 7.6\n",
    "  diploma | government polytechnic for women | 82%\n",
    "  \n",
    " # achivements:\n",
    "     \n",
    "   * first achivement : got seat in *JAWAHAR NAVODAYA VIDYALAYA* <br>\n",
    "   * second achivement : selected as cluster player in kabaddi\n",
    "   \n",
    "# image\n",
    " \n",
    " ![](nature.jpg)\n",
    "  \n",
    "  \n"
   ]
  }
 ],
 "metadata": {
  "kernelspec": {
   "display_name": "Python 3",
   "language": "python",
   "name": "python3"
  },
  "language_info": {
   "codemirror_mode": {
    "name": "ipython",
    "version": 3
   },
   "file_extension": ".py",
   "mimetype": "text/x-python",
   "name": "python",
   "nbconvert_exporter": "python",
   "pygments_lexer": "ipython3",
   "version": "3.7.4"
  }
 },
 "nbformat": 4,
 "nbformat_minor": 2
}
